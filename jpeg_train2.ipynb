{
 "cells": [
  {
   "cell_type": "code",
   "execution_count": 2,
   "metadata": {},
   "outputs": [
    {
     "name": "stdout",
     "output_type": "stream",
     "text": [
      "/data/dhahri/saliency\n"
     ]
    }
   ],
   "source": [
    "cd saliency"
   ]
  },
  {
   "cell_type": "code",
   "execution_count": null,
   "metadata": {},
   "outputs": [
    {
     "name": "stdout",
     "output_type": "stream",
     "text": [
      "\u001b[34m\u001b[1mwandb\u001b[0m: Currently logged in as: \u001b[33mheatdh\u001b[0m. Use \u001b[1m`wandb login --relogin`\u001b[0m to force relogin\n",
      "\u001b[34m\u001b[1mwandb\u001b[0m: Tracking run with wandb version 0.13.7\n",
      "\u001b[34m\u001b[1mwandb\u001b[0m: Run data is saved locally in \u001b[35m\u001b[1m/data/dhahri/saliency/wandb/run-20221229_130736-36i5kcpv\u001b[0m\n",
      "\u001b[34m\u001b[1mwandb\u001b[0m: Run \u001b[1m`wandb offline`\u001b[0m to turn off syncing.\n",
      "\u001b[34m\u001b[1mwandb\u001b[0m: Syncing run \u001b[33mJpeg_30\u001b[0m\n",
      "\u001b[34m\u001b[1mwandb\u001b[0m: ⭐️ View project at \u001b[34m\u001b[4mhttps://wandb.ai/heatdh/Saliency\u001b[0m\n",
      "\u001b[34m\u001b[1mwandb\u001b[0m: 🚀 View run at \u001b[34m\u001b[4mhttps://wandb.ai/heatdh/Saliency/runs/36i5kcpv\u001b[0m\n",
      "PNAS Model\n",
      "96 96 54\n",
      "96 270 108\n",
      "270 540 216\n",
      "540 1080 216\n",
      "1080 1080 216\n",
      "1080 1080 216\n",
      "1080 1080 432\n",
      "1080 2160 432\n",
      "2160 2160 432\n",
      "2160 2160 432\n",
      "2160 2160 864\n",
      "2160 4320 864\n",
      "4320 4320 864\n",
      "4320 4320 864\n",
      "Let's use 4 GPUs!\n",
      "---------------- Reached this part --------\n",
      "cuda\n",
      "[ 0,    59] avg_loss : -0.52204, time:0.762950 minutes\n",
      "[ 0,   119] avg_loss : -0.78693, time:1.343377 minutes\n",
      "[ 0,   179] avg_loss : -0.81872, time:1.928642 minutes\n",
      "[ 0,   239] avg_loss : -0.82408, time:2.502829 minutes\n",
      "[ 0,   299] avg_loss : -0.83548, time:3.063620 minutes\n",
      "[ 0, train] avg_loss : -0.76079\n",
      "[ 0,   val] CC : 0.89829, KLDIV : 0.22464, NSS : 1.66453, SIM : 0.77756  time:6.184444 minutes\n",
      "[ 0,  save, model_jpeg30.pt]\n",
      "\n",
      "[ 1,    59] avg_loss : -0.89631, time:0.587739 minutes\n",
      "[ 1,   119] avg_loss : -0.90460, time:1.153800 minutes\n",
      "[ 1,   179] avg_loss : -0.90249, time:1.727525 minutes\n",
      "[ 1,   239] avg_loss : -0.90416, time:2.289025 minutes\n",
      "[ 1,   299] avg_loss : -0.90580, time:2.856790 minutes\n",
      "[ 1, train] avg_loss : -0.90256\n",
      "[ 1,   val] CC : 0.89611, KLDIV : 0.21794, NSS : 1.66362, SIM : 0.78348  time:6.154432 minutes\n",
      "\n",
      "[ 2,    59] avg_loss : -0.94380, time:0.579604 minutes\n",
      "[ 2,   119] avg_loss : -0.94944, time:1.144918 minutes\n",
      "[ 2,   179] avg_loss : -0.94752, time:1.718380 minutes\n",
      "[ 2,   239] avg_loss : -0.94762, time:2.292791 minutes\n",
      "[ 2,   299] avg_loss : -0.94653, time:2.871567 minutes\n",
      "[ 2, train] avg_loss : -0.94709\n",
      "[ 2,   val] CC : 0.90080, KLDIV : 0.21070, NSS : 1.66983, SIM : 0.78895  time:6.218582 minutes\n",
      "[ 2,  save, model_jpeg30.pt]\n",
      "\n",
      "[ 3,    59] avg_loss : -0.96309, time:0.571240 minutes\n",
      "[ 3,   119] avg_loss : -0.96374, time:1.146958 minutes\n",
      "[ 3,   179] avg_loss : -0.96311, time:1.729027 minutes\n",
      "[ 3,   239] avg_loss : -0.96266, time:2.312344 minutes\n",
      "[ 3,   299] avg_loss : -0.96546, time:2.893206 minutes\n",
      "[ 3, train] avg_loss : -0.96352\n",
      "[ 3,   val] CC : 0.90288, KLDIV : 0.20873, NSS : 1.67387, SIM : 0.79287  time:6.256426 minutes\n",
      "[ 3,  save, model_jpeg30.pt]\n",
      "\n",
      "[ 4,    59] avg_loss : -0.97144, time:0.575894 minutes\n",
      "[ 4,   119] avg_loss : -0.97302, time:1.134482 minutes\n",
      "[ 4,   179] avg_loss : -0.97317, time:1.693467 minutes\n",
      "[ 4,   239] avg_loss : -0.97242, time:2.253987 minutes\n",
      "[ 4,   299] avg_loss : -0.97294, time:2.812471 minutes\n",
      "[ 4, train] avg_loss : -0.97252\n",
      "[ 4,   val] CC : 0.90287, KLDIV : 0.20654, NSS : 1.67547, SIM : 0.79331  time:6.268271 minutes\n",
      "\n",
      "[ 5,    59] avg_loss : -0.97894, time:0.595440 minutes\n",
      "[ 5,   119] avg_loss : -0.98028, time:1.158620 minutes\n",
      "[ 5,   179] avg_loss : -0.98045, time:1.720832 minutes\n",
      "[ 5,   239] avg_loss : -0.98118, time:2.277378 minutes\n",
      "[ 5,   299] avg_loss : -0.98145, time:2.832632 minutes\n",
      "[ 5, train] avg_loss : -0.98049\n",
      "[ 5,   val] CC : 0.90657, KLDIV : 0.20232, NSS : 1.68031, SIM : 0.79654  time:6.071273 minutes\n",
      "[ 5,  save, model_jpeg30.pt]\n",
      "\n",
      "[ 6,    59] avg_loss : -0.98329, time:0.582113 minutes\n",
      "[ 6,   119] avg_loss : -0.98355, time:1.163900 minutes\n",
      "[ 6,   179] avg_loss : -0.98405, time:1.741068 minutes\n",
      "[ 6,   239] avg_loss : -0.98403, time:2.320500 minutes\n",
      "[ 6,   299] avg_loss : -0.98463, time:2.893253 minutes\n",
      "[ 6, train] avg_loss : -0.98393\n",
      "[ 6,   val] CC : 0.90671, KLDIV : 0.20202, NSS : 1.68004, SIM : 0.79599  time:6.251513 minutes\n",
      "[ 6,  save, model_jpeg30.pt]\n",
      "\n",
      "[ 7,    59] avg_loss : -0.98614, time:0.576339 minutes\n",
      "[ 7,   119] avg_loss : -0.98569, time:1.151145 minutes\n",
      "[ 7,   179] avg_loss : -0.98592, time:1.728480 minutes\n",
      "[ 7,   239] avg_loss : -0.98595, time:2.311084 minutes\n",
      "[ 7,   299] avg_loss : -0.98574, time:2.890410 minutes\n",
      "[ 7, train] avg_loss : -0.98584\n"
     ]
    }
   ],
   "source": [
    "!python SimpleNet/train_aug_singlecfg.py --train_im \"jpeg_compression/jpeg_30/images\" --train_maps \"jpeg_compression/jpeg_30/maps\" --name \"Jpeg_30\" --model_val_path \"model_jpeg30.pt\""
   ]
  },
  {
   "cell_type": "code",
   "execution_count": null,
   "metadata": {},
   "outputs": [],
   "source": [
    "!python SimpleNet/train_aug_singlecfg.py --train_im \"jpeg_compression/jpeg_35/images\" --train_maps \"jpeg_compression/jpeg_35/maps\" --name \"Jpeg_35\" --model_val_path \"model_jpeg35.pt\""
   ]
  },
  {
   "cell_type": "code",
   "execution_count": null,
   "metadata": {},
   "outputs": [],
   "source": [
    "!python SimpleNet/train_aug_singlecfg.py --train_im \"jpeg_compression/jpeg_40/images\" --train_maps \"jpeg_compression/jpeg_40/maps\" --name \"Jpeg_40\" --model_val_path \"model_jpeg40.pt\""
   ]
  },
  {
   "cell_type": "code",
   "execution_count": null,
   "metadata": {},
   "outputs": [],
   "source": [
    "!python SimpleNet/train_aug_singlecfg.py --train_im \"jpeg_compression/jpeg_45/images\" --train_maps \"jpeg_compression/jpeg_45/maps\" --name \"Jpeg_45\" --model_val_path \"model_jpeg45.pt\""
   ]
  },
  {
   "cell_type": "code",
   "execution_count": null,
   "metadata": {},
   "outputs": [],
   "source": [
    "!python SimpleNet/train_aug_singlecfg.py --train_im \"jpeg_compression/jpeg_50/images\" --train_maps \"jpeg_compression/jpeg_50/maps\" --name \"Jpeg_50\" --model_val_path \"model_jpeg50.pt\""
   ]
  },
  {
   "cell_type": "code",
   "execution_count": null,
   "metadata": {},
   "outputs": [],
   "source": [
    "!python SimpleNet/train_aug_singlecfg.py --train_im \"jpeg_compression/jpeg_60/images\" --train_maps \"jpeg_compression/jpeg_60/maps\" --name \"Jpeg_60\" --model_val_path \"model_jpeg60.pt\""
   ]
  },
  {
   "cell_type": "code",
   "execution_count": null,
   "metadata": {},
   "outputs": [],
   "source": [
    "!python SimpleNet/train_aug_singlecfg.py --train_im \"jpeg_compression/jpeg_65/images\" --train_maps \"jpeg_compression/jpeg_65/maps\" --name \"Jpeg_65\" --model_val_path \"model_jpeg65.pt\""
   ]
  },
  {
   "cell_type": "code",
   "execution_count": null,
   "metadata": {},
   "outputs": [],
   "source": []
  },
  {
   "cell_type": "code",
   "execution_count": null,
   "metadata": {},
   "outputs": [],
   "source": []
  },
  {
   "cell_type": "code",
   "execution_count": null,
   "metadata": {},
   "outputs": [],
   "source": []
  },
  {
   "cell_type": "code",
   "execution_count": null,
   "metadata": {},
   "outputs": [
    {
     "name": "stdout",
     "output_type": "stream",
     "text": [
      "\u001b[34m\u001b[1mwandb\u001b[0m: Currently logged in as: \u001b[33mheatdh\u001b[0m. Use \u001b[1m`wandb login --relogin`\u001b[0m to force relogin\n",
      "\u001b[34m\u001b[1mwandb\u001b[0m: Tracking run with wandb version 0.13.7\n",
      "\u001b[34m\u001b[1mwandb\u001b[0m: Run data is saved locally in \u001b[35m\u001b[1m/data/dhahri/saliency/wandb/run-20230101_190122-st0m4s78\u001b[0m\n",
      "\u001b[34m\u001b[1mwandb\u001b[0m: Run \u001b[1m`wandb offline`\u001b[0m to turn off syncing.\n",
      "\u001b[34m\u001b[1mwandb\u001b[0m: Syncing run \u001b[33mJpeg_90\u001b[0m\n",
      "\u001b[34m\u001b[1mwandb\u001b[0m: ⭐️ View project at \u001b[34m\u001b[4mhttps://wandb.ai/heatdh/Saliency\u001b[0m\n",
      "\u001b[34m\u001b[1mwandb\u001b[0m: 🚀 View run at \u001b[34m\u001b[4mhttps://wandb.ai/heatdh/Saliency/runs/st0m4s78\u001b[0m\n",
      "PNAS Model\n",
      "96 96 54\n",
      "96 270 108\n",
      "270 540 216\n",
      "540 1080 216\n",
      "1080 1080 216\n",
      "1080 1080 216\n",
      "1080 1080 432\n",
      "1080 2160 432\n",
      "2160 2160 432\n",
      "2160 2160 432\n",
      "2160 2160 864\n",
      "2160 4320 864\n",
      "4320 4320 864\n",
      "4320 4320 864\n",
      "---------------- Reached this part --------\n",
      "cuda\n",
      "[ 0,    59] avg_loss : -0.52507, time:1.057496 minutes\n",
      "[ 0,   119] avg_loss : -0.78704, time:2.082791 minutes\n",
      "[ 0,   179] avg_loss : -0.80966, time:3.112252 minutes\n",
      "[ 0,   239] avg_loss : -0.82171, time:4.145793 minutes\n",
      "[ 0,   299] avg_loss : -0.83289, time:5.179972 minutes\n",
      "[ 0, train] avg_loss : -0.75848\n",
      "[ 0,   val] CC : 0.89643, KLDIV : 0.21388, NSS : 1.66398, SIM : 0.78430  time:3.860688 minutes\n",
      "[ 0,  save, model_jpeg90.pt]\n",
      "\n",
      "[ 1,    59] avg_loss : -0.90134, time:1.043746 minutes\n",
      "[ 1,   119] avg_loss : -0.90617, time:2.085216 minutes\n",
      "[ 1,   179] avg_loss : -0.90704, time:3.120733 minutes\n",
      "[ 1,   239] avg_loss : -0.90583, time:4.159704 minutes\n",
      "[ 1,   299] avg_loss : -0.91075, time:5.204415 minutes\n",
      "[ 1, train] avg_loss : -0.90658\n"
     ]
    }
   ],
   "source": [
    "!python SimpleNet/train_aug_singlecfg.py --train_im \"jpeg_compression/jpeg_90/images\" --train_maps \"jpeg_compression/jpeg_90/maps\" --name \"Jpeg_90\" --model_val_path \"model_jpeg90.pt\""
   ]
  },
  {
   "cell_type": "code",
   "execution_count": null,
   "metadata": {},
   "outputs": [],
   "source": [
    "!python SimpleNet/train_aug_singlecfg.py --train_im \"jpeg_compression/jpeg_95/images\" --train_maps \"jpeg_compression/jpeg_95/maps\" --name \"Jpeg_95\" --model_val_path \"model_jpeg95.pt\""
   ]
  },
  {
   "cell_type": "code",
   "execution_count": null,
   "metadata": {},
   "outputs": [],
   "source": [
    "!python SimpleNet/train_aug_singlecfg.py --train_im \"jpeg_compression/jpeg_100/images\" --train_maps \"jpeg_compression/jpeg_100/maps\" --name \"Jpeg_100\" --model_val_path \"model_jpeg100.pt\""
   ]
  }
 ],
 "metadata": {
  "kernelspec": {
   "display_name": "Python 3",
   "language": "python",
   "name": "python3"
  },
  "language_info": {
   "codemirror_mode": {
    "name": "ipython",
    "version": 3
   },
   "file_extension": ".py",
   "mimetype": "text/x-python",
   "name": "python",
   "nbconvert_exporter": "python",
   "pygments_lexer": "ipython3",
   "version": "3.8.5"
  }
 },
 "nbformat": 4,
 "nbformat_minor": 4
}

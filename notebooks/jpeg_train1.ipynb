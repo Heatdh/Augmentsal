{
 "cells": [
  {
   "cell_type": "code",
   "execution_count": 2,
   "metadata": {},
   "outputs": [
    {
     "name": "stdout",
     "output_type": "stream",
     "text": [
      "/data/dhahri/saliency\n"
     ]
    }
   ],
   "source": [
    "cd saliency"
   ]
  },
  {
   "cell_type": "code",
   "execution_count": null,
   "metadata": {},
   "outputs": [
    {
     "name": "stdout",
     "output_type": "stream",
     "text": [
      "\u001b[34m\u001b[1mwandb\u001b[0m: Currently logged in as: \u001b[33mheatdh\u001b[0m. Use \u001b[1m`wandb login --relogin`\u001b[0m to force relogin\n",
      "\u001b[34m\u001b[1mwandb\u001b[0m: Tracking run with wandb version 0.13.7\n",
      "\u001b[34m\u001b[1mwandb\u001b[0m: Run data is saved locally in \u001b[35m\u001b[1m/data/dhahri/saliency/wandb/run-20221229_125647-84rfzqsj\u001b[0m\n",
      "\u001b[34m\u001b[1mwandb\u001b[0m: Run \u001b[1m`wandb offline`\u001b[0m to turn off syncing.\n",
      "\u001b[34m\u001b[1mwandb\u001b[0m: Syncing run \u001b[33mJpeg_10\u001b[0m\n",
      "\u001b[34m\u001b[1mwandb\u001b[0m: ⭐️ View project at \u001b[34m\u001b[4mhttps://wandb.ai/heatdh/Saliency\u001b[0m\n",
      "\u001b[34m\u001b[1mwandb\u001b[0m: 🚀 View run at \u001b[34m\u001b[4mhttps://wandb.ai/heatdh/Saliency/runs/84rfzqsj\u001b[0m\n",
      "PNAS Model\n",
      "96 96 54\n",
      "96 270 108\n",
      "270 540 216\n",
      "540 1080 216\n",
      "1080 1080 216\n",
      "1080 1080 216\n",
      "1080 1080 432\n",
      "1080 2160 432\n",
      "2160 2160 432\n",
      "2160 2160 432\n",
      "2160 2160 864\n",
      "2160 4320 864\n",
      "4320 4320 864\n",
      "4320 4320 864\n",
      "---------------- Reached this part --------\n",
      "cuda\n",
      "[ 0,    59] avg_loss : -0.60716, time:1.065136 minutes\n",
      "[ 0,   119] avg_loss : -0.83719, time:2.094063 minutes\n",
      "[ 0,   179] avg_loss : -0.86314, time:3.126476 minutes\n",
      "[ 0,   239] avg_loss : -0.87194, time:4.158171 minutes\n",
      "[ 0,   299] avg_loss : -0.88368, time:5.190133 minutes\n",
      "[ 0, train] avg_loss : -0.81568\n",
      "[ 0,   val] CC : 0.90133, KLDIV : 0.21749, NSS : 1.66780, SIM : 0.78224  time:4.064665 minutes\n",
      "[ 0,  save, model_jpeg10.pt]\n",
      "\n",
      "[ 1,    59] avg_loss : -0.93410, time:1.040426 minutes\n",
      "[ 1,   119] avg_loss : -0.93881, time:2.068957 minutes\n",
      "[ 1,   179] avg_loss : -0.93977, time:3.090956 minutes\n",
      "[ 1,   239] avg_loss : -0.94307, time:4.127060 minutes\n",
      "[ 1,   299] avg_loss : -0.93806, time:5.148248 minutes\n",
      "[ 1, train] avg_loss : -0.93876\n",
      "[ 1,   val] CC : 0.90063, KLDIV : 0.21845, NSS : 1.66458, SIM : 0.78241  time:4.061819 minutes\n",
      "\n",
      "[ 2,    59] avg_loss : -0.96436, time:1.040226 minutes\n",
      "[ 2,   119] avg_loss : -0.96921, time:2.062872 minutes\n",
      "[ 2,   179] avg_loss : -0.96589, time:3.093510 minutes\n",
      "[ 2,   239] avg_loss : -0.96939, time:4.123126 minutes\n",
      "[ 2,   299] avg_loss : -0.96951, time:5.154042 minutes\n",
      "[ 2, train] avg_loss : -0.96765\n",
      "[ 2,   val] CC : 0.90505, KLDIV : 0.20226, NSS : 1.67761, SIM : 0.79366  time:4.083210 minutes\n",
      "[ 2,  save, model_jpeg10.pt]\n",
      "\n",
      "[ 3,    59] avg_loss : -0.97789, time:1.052529 minutes\n",
      "[ 3,   119] avg_loss : -0.97943, time:2.086863 minutes\n",
      "[ 3,   179] avg_loss : -0.97665, time:3.117822 minutes\n",
      "[ 3,   239] avg_loss : -0.97680, time:4.152234 minutes\n",
      "[ 3,   299] avg_loss : -0.97803, time:5.187494 minutes\n",
      "[ 3, train] avg_loss : -0.97765\n",
      "[ 3,   val] CC : 0.90526, KLDIV : 0.21514, NSS : 1.67461, SIM : 0.78878  time:4.175179 minutes\n",
      "[ 3,  save, model_jpeg10.pt]\n",
      "\n",
      "[ 4,    59] avg_loss : -0.98014, time:1.038232 minutes\n",
      "[ 4,   119] avg_loss : -0.98026, time:2.063408 minutes\n",
      "[ 4,   179] avg_loss : -0.98047, time:3.089581 minutes\n",
      "[ 4,   239] avg_loss : -0.98031, time:4.115695 minutes\n",
      "[ 4,   299] avg_loss : -0.98104, time:5.145127 minutes\n",
      "[ 4, train] avg_loss : -0.98041\n",
      "[ 4,   val] CC : 0.90770, KLDIV : 0.20369, NSS : 1.68079, SIM : 0.79581  time:4.110111 minutes\n",
      "[ 4,  save, model_jpeg10.pt]\n",
      "\n",
      "[ 5,    59] avg_loss : -0.98538, time:1.036897 minutes\n",
      "[ 5,   119] avg_loss : -0.98623, time:2.060509 minutes\n",
      "[ 5,   179] avg_loss : -0.98663, time:3.090527 minutes\n",
      "[ 5,   239] avg_loss : -0.98747, time:4.117652 minutes\n",
      "[ 5,   299] avg_loss : -0.98703, time:5.145651 minutes\n",
      "[ 5, train] avg_loss : -0.98660\n",
      "[ 5,   val] CC : 0.90864, KLDIV : 0.19648, NSS : 1.68299, SIM : 0.79817  time:3.992048 minutes\n",
      "[ 5,  save, model_jpeg10.pt]\n",
      "\n",
      "[ 6,    59] avg_loss : -0.98948, time:1.032183 minutes\n",
      "[ 6,   119] avg_loss : -0.98931, time:2.053829 minutes\n",
      "[ 6,   179] avg_loss : -0.98967, time:3.077784 minutes\n",
      "[ 6,   239] avg_loss : -0.98970, time:4.107854 minutes\n",
      "[ 6,   299] avg_loss : -0.98928, time:5.128084 minutes\n",
      "[ 6, train] avg_loss : -0.98951\n",
      "[ 6,   val] CC : 0.90886, KLDIV : 0.19780, NSS : 1.68299, SIM : 0.79769  time:3.953983 minutes\n",
      "[ 6,  save, model_jpeg10.pt]\n",
      "\n",
      "[ 7,    59] avg_loss : -0.99126, time:1.041257 minutes\n",
      "[ 7,   119] avg_loss : -0.99106, time:2.074768 minutes\n",
      "[ 7,   179] avg_loss : -0.99112, time:3.107008 minutes\n",
      "[ 7,   239] avg_loss : -0.99150, time:4.138584 minutes\n",
      "[ 7,   299] avg_loss : -0.99061, time:5.170608 minutes\n",
      "[ 7, train] avg_loss : -0.99107\n",
      "[ 7,   val] CC : 0.90888, KLDIV : 0.19876, NSS : 1.68303, SIM : 0.79729  time:4.061253 minutes\n",
      "[ 7,  save, model_jpeg10.pt]\n",
      "\n",
      "[ 8,    59] avg_loss : -0.99242, time:1.038436 minutes\n",
      "[ 8,   119] avg_loss : -0.99198, time:2.065366 minutes\n",
      "[ 8,   179] avg_loss : -0.99230, time:3.096023 minutes\n",
      "[ 8,   239] avg_loss : -0.99236, time:4.122944 minutes\n",
      "[ 8,   299] avg_loss : -0.99234, time:5.149885 minutes\n",
      "[ 8, train] avg_loss : -0.99229\n"
     ]
    }
   ],
   "source": [
    "!python SimpleNet/train_aug_singlecfg.py --train_im \"jpeg_compression/jpeg_10/images\" --train_maps \"jpeg_compression/jpeg_10/maps\" --name \"Jpeg_10\" --model_val_path \"model_jpeg10.pt\""
   ]
  },
  {
   "cell_type": "code",
   "execution_count": null,
   "metadata": {},
   "outputs": [],
   "source": [
    "!python SimpleNet/train_aug_singlecfg.py --train_im \"jpeg_compression/jpeg_15/images\" --train_maps \"jpeg_compression/jpeg_15/maps\" --name \"Jpeg_15\" --model_val_path \"model_jpeg15.pt\""
   ]
  },
  {
   "cell_type": "code",
   "execution_count": null,
   "metadata": {},
   "outputs": [],
   "source": [
    "!python SimpleNet/train_aug_singlecfg.py --train_im \"jpeg_compression/jpeg_20/images\" --train_maps \"jpeg_compression/jpeg_20/maps\" --name \"Jpeg_20\" --model_val_path \"model_jpeg20.pt\""
   ]
  },
  {
   "cell_type": "code",
   "execution_count": null,
   "metadata": {},
   "outputs": [],
   "source": [
    "!python SimpleNet/train_aug_singlecfg.py --train_im \"jpeg_compression/jpeg_25/images\" --train_maps \"jpeg_compression/jpeg_25/maps\" --name \"Jpeg_25\" --model_val_path \"model_jpeg25.pt\""
   ]
  },
  {
   "cell_type": "code",
   "execution_count": null,
   "metadata": {},
   "outputs": [],
   "source": [
    "!python SimpleNet/train_aug_singlecfg.py --train_im \"jpeg_compression/jpeg_30/images\" --train_maps \"jpeg_compression/jpeg_30/maps\" --name \"Jpeg_30\" --model_val_path \"model_jpeg30.pt\""
   ]
  },
  {
   "cell_type": "code",
   "execution_count": null,
   "metadata": {},
   "outputs": [],
   "source": [
    "!python SimpleNet/train_aug_singlecfg.py --train_im \"jpeg_compression/jpeg_35/images\" --train_maps \"jpeg_compression/jpeg_35/maps\" --name \"Jpeg_35\" --model_val_path \"model_jpeg35.pt\""
   ]
  },
  {
   "cell_type": "code",
   "execution_count": null,
   "metadata": {},
   "outputs": [],
   "source": [
    "!python SimpleNet/train_aug_singlecfg.py --train_im \"jpeg_compression/jpeg_40/images\" --train_maps \"jpeg_compression/jpeg_40/maps\" --name \"Jpeg_40\" --model_val_path \"model_jpeg40.pt\""
   ]
  },
  {
   "cell_type": "code",
   "execution_count": null,
   "metadata": {},
   "outputs": [],
   "source": [
    "!python SimpleNet/train_aug_singlecfg.py --train_im \"jpeg_compression/jpeg_45/images\" --train_maps \"jpeg_compression/jpeg_45/maps\" --name \"Jpeg_45\" --model_val_path \"model_jpeg45.pt\""
   ]
  },
  {
   "cell_type": "code",
   "execution_count": null,
   "metadata": {},
   "outputs": [],
   "source": [
    "!python SimpleNet/train_aug_singlecfg.py --train_im \"jpeg_compression/jpeg_50/images\" --train_maps \"jpeg_compression/jpeg_50/maps\" --name \"Jpeg_50\" --model_val_path \"model_jpeg50.pt\""
   ]
  },
  {
   "cell_type": "code",
   "execution_count": null,
   "metadata": {},
   "outputs": [],
   "source": [
    "!python SimpleNet/train_aug_singlecfg.py --train_im \"jpeg_compression/jpeg_60/images\" --train_maps \"jpeg_compression/jpeg_60/maps\" --name \"Jpeg_60\" --model_val_path \"model_jpeg60.pt\""
   ]
  },
  {
   "cell_type": "code",
   "execution_count": null,
   "metadata": {},
   "outputs": [],
   "source": [
    "!python SimpleNet/train_aug_singlecfg.py --train_im \"jpeg_compression/jpeg_65/images\" --train_maps \"jpeg_compression/jpeg_65/maps\" --name \"Jpeg_65\" --model_val_path \"model_jpeg65.pt\""
   ]
  },
  {
   "cell_type": "markdown",
   "metadata": {},
   "source": [
    "Done"
   ]
  },
  {
   "cell_type": "code",
   "execution_count": null,
   "metadata": {},
   "outputs": [
    {
     "name": "stdout",
     "output_type": "stream",
     "text": [
      "\u001b[34m\u001b[1mwandb\u001b[0m: Currently logged in as: \u001b[33mheatdh\u001b[0m. Use \u001b[1m`wandb login --relogin`\u001b[0m to force relogin\n",
      "\u001b[34m\u001b[1mwandb\u001b[0m: Tracking run with wandb version 0.13.7\n",
      "\u001b[34m\u001b[1mwandb\u001b[0m: Run data is saved locally in \u001b[35m\u001b[1m/data/dhahri/saliency/wandb/run-20230101_185855-1ysjxub8\u001b[0m\n",
      "\u001b[34m\u001b[1mwandb\u001b[0m: Run \u001b[1m`wandb offline`\u001b[0m to turn off syncing.\n",
      "\u001b[34m\u001b[1mwandb\u001b[0m: Syncing run \u001b[33mJpeg_70\u001b[0m\n",
      "\u001b[34m\u001b[1mwandb\u001b[0m: ⭐️ View project at \u001b[34m\u001b[4mhttps://wandb.ai/heatdh/Saliency\u001b[0m\n",
      "\u001b[34m\u001b[1mwandb\u001b[0m: 🚀 View run at \u001b[34m\u001b[4mhttps://wandb.ai/heatdh/Saliency/runs/1ysjxub8\u001b[0m\n",
      "PNAS Model\n",
      "96 96 54\n",
      "96 270 108\n",
      "270 540 216\n",
      "540 1080 216\n",
      "1080 1080 216\n",
      "1080 1080 216\n",
      "1080 1080 432\n",
      "1080 2160 432\n",
      "2160 2160 432\n",
      "2160 2160 432\n",
      "2160 2160 864\n",
      "2160 4320 864\n",
      "4320 4320 864\n",
      "4320 4320 864\n",
      "Let's use 4 GPUs!\n",
      "---------------- Reached this part --------\n",
      "cuda\n",
      "[ 0,    59] avg_loss : -0.53207, time:0.747991 minutes\n",
      "[ 0,   119] avg_loss : -0.76971, time:1.328061 minutes\n",
      "[ 0,   179] avg_loss : -0.80876, time:1.906093 minutes\n",
      "[ 0,   239] avg_loss : -0.81616, time:2.486827 minutes\n",
      "[ 0,   299] avg_loss : -0.83162, time:3.054375 minutes\n",
      "[ 0, train] avg_loss : -0.75533\n",
      "[ 0,   val] CC : 0.89744, KLDIV : 0.24130, NSS : 1.66017, SIM : 0.76473  time:6.278504 minutes\n",
      "[ 0,  save, model_jpeg70.pt]\n",
      "\n",
      "[ 1,    59] avg_loss : -0.89212, time:0.580356 minutes\n",
      "[ 1,   119] avg_loss : -0.89301, time:1.158329 minutes\n",
      "[ 1,   179] avg_loss : -0.89742, time:1.743169 minutes\n",
      "[ 1,   239] avg_loss : -0.89613, time:2.324647 minutes\n",
      "[ 1,   299] avg_loss : -0.89295, time:2.919574 minutes\n",
      "[ 1, train] avg_loss : -0.89441\n",
      "[ 1,   val] CC : 0.90000, KLDIV : 0.21179, NSS : 1.66935, SIM : 0.78659  time:6.398707 minutes\n",
      "[ 1,  save, model_jpeg70.pt]\n",
      "\n",
      "[ 2,    59] avg_loss : -0.93806, time:0.578824 minutes\n"
     ]
    }
   ],
   "source": [
    "!python SimpleNet/train_aug_singlecfg.py --train_im \"jpeg_compression/jpeg_70/images\" --train_maps \"jpeg_compression/jpeg_70/maps\" --name \"Jpeg_70\" --model_val_path \"model_jpeg70.pt\""
   ]
  },
  {
   "cell_type": "code",
   "execution_count": null,
   "metadata": {},
   "outputs": [],
   "source": [
    "!python SimpleNet/train_aug_singlecfg.py --train_im \"jpeg_compression/jpeg_75/images\" --train_maps \"jpeg_compression/jpeg_75/maps\" --name \"Jpeg_75\" --model_val_path \"model_jpeg75.pt\""
   ]
  },
  {
   "cell_type": "code",
   "execution_count": null,
   "metadata": {},
   "outputs": [],
   "source": [
    "!python SimpleNet/train_aug_singlecfg.py --train_im \"jpeg_compression/jpeg_80/images\" --train_maps \"jpeg_compression/jpeg_80/maps\" --name \"Jpeg_80\" --model_val_path \"model_jpeg80.pt\""
   ]
  },
  {
   "cell_type": "code",
   "execution_count": null,
   "metadata": {},
   "outputs": [],
   "source": [
    "!python SimpleNet/train_aug_singlecfg.py --train_im \"jpeg_compression/jpeg_85/images\" --train_maps \"jpeg_compression/jpeg_85/maps\" --name \"Jpeg_85\" --model_val_path \"model_jpeg85.pt\""
   ]
  },
  {
   "cell_type": "code",
   "execution_count": null,
   "metadata": {},
   "outputs": [],
   "source": []
  }
 ],
 "metadata": {
  "kernelspec": {
   "display_name": "Python 3",
   "language": "python",
   "name": "python3"
  },
  "language_info": {
   "codemirror_mode": {
    "name": "ipython",
    "version": 3
   },
   "file_extension": ".py",
   "mimetype": "text/x-python",
   "name": "python",
   "nbconvert_exporter": "python",
   "pygments_lexer": "ipython3",
   "version": "3.8.5"
  }
 },
 "nbformat": 4,
 "nbformat_minor": 4
}

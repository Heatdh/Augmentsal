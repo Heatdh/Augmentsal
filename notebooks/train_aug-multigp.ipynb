{
 "cells": [
  {
   "cell_type": "code",
   "execution_count": 2,
   "metadata": {},
   "outputs": [
    {
     "name": "stdout",
     "output_type": "stream",
     "text": [
      "Defaulting to user installation because normal site-packages is not writeable\n",
      "Requirement already satisfied: wandb in /home/dhahri/.local/lib/python3.8/site-packages (0.13.7)\n",
      "Requirement already satisfied: GitPython>=1.0.0 in /home/dhahri/.local/lib/python3.8/site-packages (from wandb) (3.1.29)\n",
      "Requirement already satisfied: docker-pycreds>=0.4.0 in /home/dhahri/.local/lib/python3.8/site-packages (from wandb) (0.4.0)\n",
      "Requirement already satisfied: setproctitle in /home/dhahri/.local/lib/python3.8/site-packages (from wandb) (1.3.2)\n",
      "Requirement already satisfied: shortuuid>=0.5.0 in /home/dhahri/.local/lib/python3.8/site-packages (from wandb) (1.0.11)\n",
      "Requirement already satisfied: promise<3,>=2.0 in /home/dhahri/.local/lib/python3.8/site-packages (from wandb) (2.3)\n",
      "Requirement already satisfied: requests<3,>=2.0.0 in /opt/conda/lib/python3.8/site-packages (from wandb) (2.24.0)\n",
      "Requirement already satisfied: setuptools in /opt/conda/lib/python3.8/site-packages (from wandb) (50.3.1.post20201107)\n",
      "Requirement already satisfied: Click!=8.0.0,>=7.0 in /opt/conda/lib/python3.8/site-packages (from wandb) (7.1.2)\n",
      "Requirement already satisfied: sentry-sdk>=1.0.0 in /home/dhahri/.local/lib/python3.8/site-packages (from wandb) (1.12.1)\n",
      "Requirement already satisfied: pathtools in /home/dhahri/.local/lib/python3.8/site-packages (from wandb) (0.1.2)\n",
      "Requirement already satisfied: psutil>=5.0.0 in /opt/conda/lib/python3.8/site-packages (from wandb) (5.7.2)\n",
      "Requirement already satisfied: protobuf!=4.21.0,<5,>=3.12.0; python_version < \"3.9\" and sys_platform == \"linux\" in /opt/conda/lib/python3.8/site-packages (from wandb) (3.20.1)\n",
      "Requirement already satisfied: PyYAML in /opt/conda/lib/python3.8/site-packages (from wandb) (6.0)\n",
      "Requirement already satisfied: gitdb<5,>=4.0.1 in /home/dhahri/.local/lib/python3.8/site-packages (from GitPython>=1.0.0->wandb) (4.0.10)\n",
      "Requirement already satisfied: six>=1.4.0 in /opt/conda/lib/python3.8/site-packages (from docker-pycreds>=0.4.0->wandb) (1.15.0)\n",
      "Requirement already satisfied: urllib3!=1.25.0,!=1.25.1,<1.26,>=1.21.1 in /home/dhahri/.local/lib/python3.8/site-packages (from requests<3,>=2.0.0->wandb) (1.25.11)\n",
      "Requirement already satisfied: chardet<4,>=3.0.2 in /opt/conda/lib/python3.8/site-packages (from requests<3,>=2.0.0->wandb) (3.0.4)\n",
      "Requirement already satisfied: certifi>=2017.4.17 in /opt/conda/lib/python3.8/site-packages (from requests<3,>=2.0.0->wandb) (2022.9.24)\n",
      "Requirement already satisfied: idna<3,>=2.5 in /opt/conda/lib/python3.8/site-packages (from requests<3,>=2.0.0->wandb) (2.10)\n",
      "Requirement already satisfied: smmap<6,>=3.0.1 in /home/dhahri/.local/lib/python3.8/site-packages (from gitdb<5,>=4.0.1->GitPython>=1.0.0->wandb) (5.0.0)\n"
     ]
    }
   ],
   "source": [
    "!pip install wandb"
   ]
  },
  {
   "cell_type": "code",
   "execution_count": 5,
   "metadata": {},
   "outputs": [
    {
     "name": "stdout",
     "output_type": "stream",
     "text": [
      "Defaulting to user installation because normal site-packages is not writeable\n",
      "Collecting matplotlib\n",
      "  Downloading matplotlib-3.6.2-cp38-cp38-manylinux_2_12_x86_64.manylinux2010_x86_64.whl (9.4 MB)\n",
      "\u001b[K     |████████████████████████████████| 9.4 MB 6.0 MB/s eta 0:00:01\n",
      "\u001b[?25hRequirement already satisfied: fonttools>=4.22.0 in /opt/conda/lib/python3.8/site-packages (from matplotlib) (4.25.0)\n",
      "Collecting contourpy>=1.0.1\n",
      "  Downloading contourpy-1.0.6-cp38-cp38-manylinux_2_17_x86_64.manylinux2014_x86_64.whl (295 kB)\n",
      "\u001b[K     |████████████████████████████████| 295 kB 144.6 MB/s eta 0:00:01\n",
      "\u001b[?25hRequirement already satisfied: pillow>=6.2.0 in /opt/conda/lib/python3.8/site-packages (from matplotlib) (9.2.0)\n",
      "Requirement already satisfied: packaging>=20.0 in /opt/conda/lib/python3.8/site-packages (from matplotlib) (21.3)\n",
      "Requirement already satisfied: python-dateutil>=2.7 in /opt/conda/lib/python3.8/site-packages (from matplotlib) (2.8.2)\n",
      "Requirement already satisfied: pyparsing>=2.2.1 in /opt/conda/lib/python3.8/site-packages (from matplotlib) (3.0.9)\n",
      "Requirement already satisfied: cycler>=0.10 in /opt/conda/lib/python3.8/site-packages (from matplotlib) (0.11.0)\n",
      "Requirement already satisfied: kiwisolver>=1.0.1 in /opt/conda/lib/python3.8/site-packages (from matplotlib) (1.4.2)\n",
      "Requirement already satisfied: numpy>=1.19 in /opt/conda/lib/python3.8/site-packages (from matplotlib) (1.19.2)\n",
      "Requirement already satisfied: six>=1.5 in /opt/conda/lib/python3.8/site-packages (from python-dateutil>=2.7->matplotlib) (1.15.0)\n",
      "Installing collected packages: contourpy, matplotlib\n",
      "Successfully installed contourpy-1.0.6 matplotlib-3.6.2\n"
     ]
    }
   ],
   "source": [
    "!pip install matplotlib"
   ]
  },
  {
   "cell_type": "code",
   "execution_count": 7,
   "metadata": {},
   "outputs": [
    {
     "name": "stdout",
     "output_type": "stream",
     "text": [
      "Defaulting to user installation because normal site-packages is not writeable\n",
      "Collecting pytorch_ssim\n",
      "  Downloading pytorch_ssim-0.1.tar.gz (1.4 kB)\n",
      "Building wheels for collected packages: pytorch-ssim\n",
      "  Building wheel for pytorch-ssim (setup.py) ... \u001b[?25ldone\n",
      "\u001b[?25h  Created wheel for pytorch-ssim: filename=pytorch_ssim-0.1-py3-none-any.whl size=2029 sha256=e54c3a8fdbb9bf538b4b1bb03f215e32014ad2f704e70f96cb24183c6685ed3d\n",
      "  Stored in directory: /home/dhahri/.cache/pip/wheels/84/ed/d7/50866b84ef6b22c48775736c62faf5d928cc6d0a135a65b034\n",
      "Successfully built pytorch-ssim\n",
      "Installing collected packages: pytorch-ssim\n",
      "Successfully installed pytorch-ssim-0.1\n"
     ]
    }
   ],
   "source": [
    "!pip install pytorch_ssim"
   ]
  },
  {
   "cell_type": "code",
   "execution_count": 8,
   "metadata": {},
   "outputs": [
    {
     "name": "stdout",
     "output_type": "stream",
     "text": [
      "Defaulting to user installation because normal site-packages is not writeable\n",
      "Collecting torchsummary\n",
      "  Downloading torchsummary-1.5.1-py3-none-any.whl (2.8 kB)\n",
      "Installing collected packages: torchsummary\n",
      "Successfully installed torchsummary-1.5.1\n"
     ]
    }
   ],
   "source": [
    "!pip install torchsummary"
   ]
  },
  {
   "cell_type": "code",
   "execution_count": 3,
   "metadata": {},
   "outputs": [
    {
     "name": "stdout",
     "output_type": "stream",
     "text": [
      "/data/dhahri/saliency\n"
     ]
    }
   ],
   "source": [
    "cd saliency"
   ]
  },
  {
   "cell_type": "code",
   "execution_count": 1,
   "metadata": {},
   "outputs": [
    {
     "name": "stdout",
     "output_type": "stream",
     "text": [
      "not hanging\n"
     ]
    }
   ],
   "source": [
    "print(\"not hanging\")"
   ]
  },
  {
   "cell_type": "code",
   "execution_count": null,
   "metadata": {},
   "outputs": [
    {
     "name": "stdout",
     "output_type": "stream",
     "text": [
      "\u001b[34m\u001b[1mwandb\u001b[0m: Currently logged in as: \u001b[33mheatdh\u001b[0m. Use \u001b[1m`wandb login --relogin`\u001b[0m to force relogin\n",
      "\u001b[34m\u001b[1mwandb\u001b[0m: Tracking run with wandb version 0.13.7\n",
      "\u001b[34m\u001b[1mwandb\u001b[0m: Run data is saved locally in \u001b[35m\u001b[1m/data/dhahri/saliency/wandb/run-20221222_111432-3j1gv5kr\u001b[0m\n",
      "\u001b[34m\u001b[1mwandb\u001b[0m: Run \u001b[1m`wandb offline`\u001b[0m to turn off syncing.\n",
      "\u001b[34m\u001b[1mwandb\u001b[0m: Syncing run \u001b[33mNoise2\u001b[0m\n",
      "\u001b[34m\u001b[1mwandb\u001b[0m: ⭐️ View project at \u001b[34m\u001b[4mhttps://wandb.ai/heatdh/Saliency\u001b[0m\n",
      "\u001b[34m\u001b[1mwandb\u001b[0m: 🚀 View run at \u001b[34m\u001b[4mhttps://wandb.ai/heatdh/Saliency/runs/3j1gv5kr\u001b[0m\n",
      "PNAS Model\n",
      "96 96 54\n",
      "96 270 108\n",
      "270 540 216\n",
      "540 1080 216\n",
      "1080 1080 216\n",
      "1080 1080 216\n",
      "1080 1080 432\n",
      "1080 2160 432\n",
      "2160 2160 432\n",
      "2160 2160 432\n",
      "2160 2160 864\n",
      "2160 4320 864\n",
      "4320 4320 864\n",
      "4320 4320 864\n",
      "Let's use 4 GPUs!\n",
      "---------------- Reached this part --------\n",
      "cuda\n",
      "[ 0,    59] avg_loss : -0.52618, time:0.751459 minutes\n",
      "[ 0,   119] avg_loss : -0.78397, time:1.335746 minutes\n",
      "[ 0,   179] avg_loss : -0.80413, time:1.915830 minutes\n",
      "[ 0,   239] avg_loss : -0.81993, time:2.502412 minutes\n",
      "[ 0,   299] avg_loss : -0.83251, time:3.083610 minutes\n",
      "[ 0, train] avg_loss : -0.75657\n",
      "[ 0,   val] CC : 0.89428, KLDIV : 0.22297, NSS : 1.65936, SIM : 0.77773  time:6.185232 minutes\n",
      "[ 0,  save, model_noise2.pt]\n",
      "\n",
      "[ 1,    59] avg_loss : -0.88989, time:0.578566 minutes\n",
      "[ 1,   119] avg_loss : -0.89510, time:1.142472 minutes\n",
      "[ 1,   179] avg_loss : -0.89115, time:1.704908 minutes\n",
      "[ 1,   239] avg_loss : -0.89797, time:2.268057 minutes\n",
      "[ 1,   299] avg_loss : -0.89685, time:2.826613 minutes\n",
      "[ 1, train] avg_loss : -0.89386\n",
      "[ 1,   val] CC : 0.89750, KLDIV : 0.22885, NSS : 1.66509, SIM : 0.78410  time:6.239737 minutes\n",
      "[ 1,  save, model_noise2.pt]\n",
      "\n",
      "[ 2,    59] avg_loss : -0.94058, time:0.578555 minutes\n",
      "[ 2,   119] avg_loss : -0.94102, time:1.142657 minutes\n",
      "[ 2,   179] avg_loss : -0.94238, time:1.703724 minutes\n",
      "[ 2,   239] avg_loss : -0.94453, time:2.266359 minutes\n",
      "[ 2,   299] avg_loss : -0.94200, time:2.834295 minutes\n",
      "[ 2, train] avg_loss : -0.94215\n",
      "[ 2,   val] CC : 0.90060, KLDIV : 0.21598, NSS : 1.66988, SIM : 0.78681  time:6.264997 minutes\n",
      "[ 2,  save, model_noise2.pt]\n",
      "\n",
      "[ 3,    59] avg_loss : -0.96153, time:0.578511 minutes\n",
      "[ 3,   119] avg_loss : -0.96106, time:1.154189 minutes\n",
      "[ 3,   179] avg_loss : -0.96258, time:1.723464 minutes\n",
      "[ 3,   239] avg_loss : -0.96227, time:2.292392 minutes\n",
      "[ 3,   299] avg_loss : -0.96010, time:2.871431 minutes\n",
      "[ 3, train] avg_loss : -0.96147\n",
      "[ 3,   val] CC : 0.90224, KLDIV : 0.21093, NSS : 1.67136, SIM : 0.78988  time:6.338259 minutes\n",
      "[ 3,  save, model_noise2.pt]\n",
      "\n",
      "[ 4,    59] avg_loss : -0.96931, time:0.593145 minutes\n",
      "[ 4,   119] avg_loss : -0.97097, time:1.171578 minutes\n",
      "[ 4,   179] avg_loss : -0.97121, time:1.752057 minutes\n",
      "[ 4,   239] avg_loss : -0.97168, time:2.335906 minutes\n",
      "[ 4,   299] avg_loss : -0.97130, time:2.916853 minutes\n",
      "[ 4, train] avg_loss : -0.97082\n",
      "[ 4,   val] CC : 0.90412, KLDIV : 0.20812, NSS : 1.67515, SIM : 0.79260  time:6.227210 minutes\n",
      "[ 4,  save, model_noise2.pt]\n",
      "\n",
      "[ 5,    59] avg_loss : -0.97775, time:0.579532 minutes\n",
      "[ 5,   119] avg_loss : -0.97871, time:1.151996 minutes\n",
      "[ 5,   179] avg_loss : -0.97870, time:1.729333 minutes\n",
      "[ 5,   239] avg_loss : -0.97905, time:2.308423 minutes\n",
      "[ 5,   299] avg_loss : -0.97967, time:2.886203 minutes\n",
      "[ 5, train] avg_loss : -0.97880\n",
      "[ 5,   val] CC : 0.90619, KLDIV : 0.20308, NSS : 1.67869, SIM : 0.79452  time:6.127047 minutes\n",
      "[ 5,  save, model_noise2.pt]\n",
      "\n",
      "[ 6,    59] avg_loss : -0.98193, time:0.574946 minutes\n",
      "[ 6,   119] avg_loss : -0.98211, time:1.129910 minutes\n",
      "[ 6,   179] avg_loss : -0.98215, time:1.688847 minutes\n",
      "[ 6,   239] avg_loss : -0.98232, time:2.256269 minutes\n",
      "[ 6,   299] avg_loss : -0.98291, time:2.820460 minutes\n",
      "[ 6, train] avg_loss : -0.98232\n",
      "[ 6,   val] CC : 0.90630, KLDIV : 0.20354, NSS : 1.67909, SIM : 0.79526  time:6.178654 minutes\n",
      "[ 6,  save, model_noise2.pt]\n",
      "\n",
      "[ 7,    59] avg_loss : -0.98450, time:0.576147 minutes\n",
      "[ 7,   119] avg_loss : -0.98453, time:1.139827 minutes\n",
      "[ 7,   179] avg_loss : -0.98454, time:1.702993 minutes\n",
      "[ 7,   239] avg_loss : -0.98540, time:2.272474 minutes\n",
      "[ 7,   299] avg_loss : -0.98475, time:2.839129 minutes\n",
      "[ 7, train] avg_loss : -0.98473\n",
      "[ 7,   val] CC : 0.90610, KLDIV : 0.20365, NSS : 1.67875, SIM : 0.79535  time:6.128775 minutes\n",
      "\n",
      "[ 8,    59] avg_loss : -0.98643, time:0.574053 minutes\n",
      "[ 8,   119] avg_loss : -0.98637, time:1.125973 minutes\n",
      "[ 8,   179] avg_loss : -0.98639, time:1.687001 minutes\n",
      "[ 8,   239] avg_loss : -0.98615, time:2.241134 minutes\n",
      "[ 8,   299] avg_loss : -0.98623, time:2.808629 minutes\n",
      "[ 8, train] avg_loss : -0.98627\n",
      "[ 8,   val] CC : 0.90639, KLDIV : 0.20202, NSS : 1.67923, SIM : 0.79527  time:6.353948 minutes\n",
      "[ 8,  save, model_noise2.pt]\n",
      "\n",
      "[ 9,    59] avg_loss : -0.98758, time:0.588278 minutes\n",
      "[ 9,   119] avg_loss : -0.98785, time:1.171189 minutes\n",
      "[ 9,   179] avg_loss : -0.98750, time:1.743133 minutes\n",
      "[ 9,   239] avg_loss : -0.98770, time:2.300077 minutes\n",
      "[ 9,   299] avg_loss : -0.98771, time:2.855791 minutes\n",
      "[ 9, train] avg_loss : -0.98765\n",
      "[ 9,   val] CC : 0.90667, KLDIV : 0.20260, NSS : 1.67996, SIM : 0.79619  time:6.708536 minutes\n",
      "[ 9,  save, model_noise2.pt]\n",
      "\n",
      "[10,    59] avg_loss : -0.98871, time:0.656893 minutes\n",
      "[10,   119] avg_loss : -0.98863, time:1.287390 minutes\n",
      "[10,   179] avg_loss : -0.98898, time:1.923994 minutes\n",
      "[10,   239] avg_loss : -0.98870, time:2.557919 minutes\n",
      "[10,   299] avg_loss : -0.98865, time:3.188062 minutes\n",
      "[10, train] avg_loss : -0.98873\n",
      "[10,   val] CC : 0.90611, KLDIV : 0.20312, NSS : 1.67901, SIM : 0.79579  time:7.312443 minutes\n",
      "\n",
      "[11,    59] avg_loss : -0.98889, time:0.658475 minutes\n",
      "[11,   119] avg_loss : -0.98889, time:1.287254 minutes\n",
      "[11,   179] avg_loss : -0.98879, time:1.912041 minutes\n",
      "[11,   239] avg_loss : -0.98886, time:2.526942 minutes\n",
      "[11,   299] avg_loss : -0.98900, time:3.158878 minutes\n",
      "[11, train] avg_loss : -0.98886\n",
      "[11,   val] CC : 0.90660, KLDIV : 0.20204, NSS : 1.67990, SIM : 0.79626  time:7.339077 minutes\n",
      "\n",
      "[12,    59] avg_loss : -0.98894, time:0.665587 minutes\n",
      "[12,   119] avg_loss : -0.98905, time:1.304892 minutes\n",
      "[12,   179] avg_loss : -0.98916, time:1.951019 minutes\n",
      "[12,   239] avg_loss : -0.98892, time:2.584254 minutes\n",
      "[12,   299] avg_loss : -0.98897, time:3.226730 minutes\n",
      "[12, train] avg_loss : -0.98901\n",
      "[12,   val] CC : 0.90634, KLDIV : 0.20250, NSS : 1.67918, SIM : 0.79590  time:6.222104 minutes\n",
      "\n",
      "[13,    59] avg_loss : -0.98943, time:0.572589 minutes\n",
      "[13,   119] avg_loss : -0.98935, time:1.139000 minutes\n",
      "[13,   179] avg_loss : -0.98904, time:1.696490 minutes\n",
      "[13,   239] avg_loss : -0.98922, time:2.252601 minutes\n"
     ]
    }
   ],
   "source": [
    "!python SimpleNet/train_aug_singlecfg.py --train_im \"augmented/images/Noise2\" --train_maps \"augmented/maps/Noise2\" --name \"Noise2\" --model_val_path \"model_noise2.pt\""
   ]
  },
  {
   "cell_type": "code",
   "execution_count": null,
   "metadata": {},
   "outputs": [],
   "source": [
    "!python SimpleNet/train_aug_singlecfg.py --train_im \"augmented/images/boundaries\" --train_maps \"augmented/maps/boundaries\" --name \"boundaries\" --model_val_path \"model_boundaries.pt\""
   ]
  },
  {
   "cell_type": "code",
   "execution_count": null,
   "metadata": {},
   "outputs": [],
   "source": [
    "!python SimpleNet/train_aug_singlecfg.py --train_im \"augmented/images/Shearing1\" --train_maps \"augmented/maps/Shearing1\" --name \"Shearing1\" --model_val_path \"model_Shearing1.pt\""
   ]
  },
  {
   "cell_type": "code",
   "execution_count": null,
   "metadata": {},
   "outputs": [],
   "source": [
    "!python SimpleNet/train_aug_singlecfg.py --train_im \"augmented/images/Shearing2\" --train_maps \"augmented/maps/Shearing2\" --name \"Shearing2\" --model_val_path \"model_Shearing2.pt\""
   ]
  },
  {
   "cell_type": "code",
   "execution_count": null,
   "metadata": {},
   "outputs": [],
   "source": [
    "!python SimpleNet/train_aug_singlecfg.py --train_im \"augmented/images/Shearing3\" --train_maps \"augmented/maps/Shearing3\" --name \"Shearing3\" --model_val_path \"model_Shearing3.pt\""
   ]
  },
  {
   "cell_type": "code",
   "execution_count": null,
   "metadata": {},
   "outputs": [],
   "source": [
    "!python SimpleNet/train_aug_singlecfg.py --train_im \"augmented/images/Mirroring\" --train_maps \"augmented/maps/Mirroring\" --name \"Mirroring\" --model_val_path \"model_Mirroring.pt\""
   ]
  }
 ],
 "metadata": {
  "kernelspec": {
   "display_name": "Python 3",
   "language": "python",
   "name": "python3"
  },
  "language_info": {
   "codemirror_mode": {
    "name": "ipython",
    "version": 3
   },
   "file_extension": ".py",
   "mimetype": "text/x-python",
   "name": "python",
   "nbconvert_exporter": "python",
   "pygments_lexer": "ipython3",
   "version": "3.8.5"
  }
 },
 "nbformat": 4,
 "nbformat_minor": 4
}
